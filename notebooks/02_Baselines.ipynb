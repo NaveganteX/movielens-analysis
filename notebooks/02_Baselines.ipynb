{
 "cells": [
  {
   "cell_type": "code",
   "execution_count": 1,
   "metadata": {},
   "outputs": [],
   "source": [
    "%matplotlib inline"
   ]
  },
  {
   "cell_type": "code",
   "execution_count": 2,
   "metadata": {},
   "outputs": [],
   "source": [
    "from datetime import datetime\n",
    "import gc\n",
    "from IPython.display import Markdown\n",
    "from os.path import join\n",
    "from os.path import exists\n",
    "from sklearn.metrics import mean_absolute_error\n",
    "import matplotlib.pyplot as plt\n",
    "import numpy as np\n",
    "import pandas as pd\n",
    "import seaborn as sns\n",
    "\n",
    "plt.style.use('big-darkgrid')"
   ]
  },
  {
   "cell_type": "code",
   "execution_count": 3,
   "metadata": {},
   "outputs": [
    {
     "name": "stdout",
     "output_type": "stream",
     "text": [
      "Loading ../preprocessed/ratings-through-2013.feather\n"
     ]
    },
    {
     "data": {
      "text/html": [
       "<div>\n",
       "<style scoped>\n",
       "    .dataframe tbody tr th:only-of-type {\n",
       "        vertical-align: middle;\n",
       "    }\n",
       "\n",
       "    .dataframe tbody tr th {\n",
       "        vertical-align: top;\n",
       "    }\n",
       "\n",
       "    .dataframe thead th {\n",
       "        text-align: right;\n",
       "    }\n",
       "</style>\n",
       "<table border=\"1\" class=\"dataframe\">\n",
       "  <thead>\n",
       "    <tr style=\"text-align: right;\">\n",
       "      <th></th>\n",
       "      <th>userId</th>\n",
       "      <th>movieId</th>\n",
       "      <th>rating</th>\n",
       "      <th>timestamp</th>\n",
       "      <th>year</th>\n",
       "      <th>month</th>\n",
       "      <th>day</th>\n",
       "      <th>hour</th>\n",
       "      <th>minute</th>\n",
       "    </tr>\n",
       "  </thead>\n",
       "  <tbody>\n",
       "    <tr>\n",
       "      <th>19153905</th>\n",
       "      <td>120609</td>\n",
       "      <td>81562</td>\n",
       "      <td>3.0</td>\n",
       "      <td>2013-12-31 23:57:27</td>\n",
       "      <td>2013</td>\n",
       "      <td>12</td>\n",
       "      <td>31</td>\n",
       "      <td>23</td>\n",
       "      <td>57</td>\n",
       "    </tr>\n",
       "    <tr>\n",
       "      <th>19153906</th>\n",
       "      <td>120609</td>\n",
       "      <td>356</td>\n",
       "      <td>2.5</td>\n",
       "      <td>2013-12-31 23:57:36</td>\n",
       "      <td>2013</td>\n",
       "      <td>12</td>\n",
       "      <td>31</td>\n",
       "      <td>23</td>\n",
       "      <td>57</td>\n",
       "    </tr>\n",
       "    <tr>\n",
       "      <th>19153907</th>\n",
       "      <td>120609</td>\n",
       "      <td>74458</td>\n",
       "      <td>4.0</td>\n",
       "      <td>2013-12-31 23:57:47</td>\n",
       "      <td>2013</td>\n",
       "      <td>12</td>\n",
       "      <td>31</td>\n",
       "      <td>23</td>\n",
       "      <td>57</td>\n",
       "    </tr>\n",
       "    <tr>\n",
       "      <th>19153908</th>\n",
       "      <td>44501</td>\n",
       "      <td>70533</td>\n",
       "      <td>4.5</td>\n",
       "      <td>2013-12-31 23:58:07</td>\n",
       "      <td>2013</td>\n",
       "      <td>12</td>\n",
       "      <td>31</td>\n",
       "      <td>23</td>\n",
       "      <td>58</td>\n",
       "    </tr>\n",
       "    <tr>\n",
       "      <th>19153909</th>\n",
       "      <td>44501</td>\n",
       "      <td>96821</td>\n",
       "      <td>4.0</td>\n",
       "      <td>2013-12-31 23:58:34</td>\n",
       "      <td>2013</td>\n",
       "      <td>12</td>\n",
       "      <td>31</td>\n",
       "      <td>23</td>\n",
       "      <td>58</td>\n",
       "    </tr>\n",
       "  </tbody>\n",
       "</table>\n",
       "</div>"
      ],
      "text/plain": [
       "          userId  movieId  rating           timestamp  year  month  day  hour  \\\n",
       "19153905  120609    81562     3.0 2013-12-31 23:57:27  2013     12   31    23   \n",
       "19153906  120609      356     2.5 2013-12-31 23:57:36  2013     12   31    23   \n",
       "19153907  120609    74458     4.0 2013-12-31 23:57:47  2013     12   31    23   \n",
       "19153908   44501    70533     4.5 2013-12-31 23:58:07  2013     12   31    23   \n",
       "19153909   44501    96821     4.0 2013-12-31 23:58:34  2013     12   31    23   \n",
       "\n",
       "          minute  \n",
       "19153905      57  \n",
       "19153906      57  \n",
       "19153907      57  \n",
       "19153908      58  \n",
       "19153909      58  "
      ]
     },
     "metadata": {},
     "output_type": "display_data"
    },
    {
     "name": "stdout",
     "output_type": "stream",
     "text": [
      "CPU times: user 885 ms, sys: 1.57 s, total: 2.45 s\n",
      "Wall time: 17.9 s\n"
     ]
    }
   ],
   "source": [
    "%%time\n",
    "# This was created in 01_Initial_Ratings_EDA.ipynb\n",
    "ratings_feather = '../preprocessed/ratings.feather'\n",
    "# These were/will be created here\n",
    "ratings_through_2013_feather = '../preprocessed/ratings-through-2013.feather'\n",
    "ratings_2014_through_2015_feather = '../preprocessed/ratings-2014-through-2015.feather'\n",
    "\n",
    "if exists(ratings_through_2013_feather) and exists(ratings_2014_through_2015_feather):\n",
    "    print(\"Loading {}\".format(ratings_through_2013_feather))\n",
    "    ratings_df = pd.read_feather(ratings_through_2013_feather)\n",
    "else:\n",
    "    ratings_df_full = pd.read_feather(ratings_feather)\n",
    "    ratings_df = ratings_df_full[ratings_df_full['year'] <= 2013].copy()\n",
    "    print(\"Writing {}\".format(ratings_through_2013_feather))\n",
    "    ratings_df.to_feather(ratings_through_2013_feather)\n",
    "    print(\"Writing {}\".format(ratings_2014_through_2015_feather))\n",
    "    (ratings_df_full[ratings_df_full['year']>=2014]\n",
    "     .reset_index(drop=True)\n",
    "     .to_feather(ratings_2014_through_2015_feather)\n",
    "    )\n",
    "    del ratings_df_full\n",
    "    gc.collect()\n",
    "display(ratings_df.tail())"
   ]
  },
  {
   "cell_type": "code",
   "execution_count": 62,
   "metadata": {},
   "outputs": [],
   "source": [
    "class PerformanceOverTimeValidator():\n",
    "    \"\"\"Validator that evaluates model performance over time. For each time\n",
    "    period tested, all data before that time period is used as training data.\n",
    "    \n",
    "    Parameters\n",
    "    ----------\n",
    "    model_ : object\n",
    "        An object with public fit(X, y) and predict(X) methods.\n",
    "    err_func_ : function, default=sklearn.metrics.mean_absolute_error\n",
    "        A function used to evaluate performance for each time period.\n",
    "        Arguments are y and y_pred, both of which are array-like with\n",
    "        shape = [n_samples]\n",
    "    n_year_period_ : int, default=1\n",
    "        Number of years per test period\n",
    "        \n",
    "    Attributes\n",
    "    ----------\n",
    "    test_years_ : int list\n",
    "        List of years, each of which marks the first year\n",
    "        in a tested time period\n",
    "    test_errs_ : float list, [n_periods_tested]\n",
    "        List of test errors for each time period tested\n",
    "    \n",
    "    \"\"\"\n",
    "    def __init__(self, model, err_func=mean_absolute_error, n_year_period=1):\n",
    "        self.model_ = model\n",
    "        self.err_func_ = err_func\n",
    "        self.n_year_period_ = n_year_period\n",
    "        self.test_years_ = []\n",
    "        self.test_errs_ = []\n",
    "        \n",
    "    def validate(self, X, y, years):\n",
    "        \"\"\"Computes test error using all previous data as training data\n",
    "        over a set of years\n",
    "        \n",
    "        Paramters\n",
    "        ---------\n",
    "        X : {array-like}, shape = [n_samples, n_features]\n",
    "            Feature vectors\n",
    "        y : array-like, shape = [n_samples]\n",
    "            Target variables\n",
    "        years : array-like, shape = [n_samples]\n",
    "        \n",
    "        Returns\n",
    "        -------\n",
    "        test_years_ : int list, [n_periods_tested]\n",
    "            List of years, each of which marks the first year\n",
    "            in a tested time period\n",
    "        test_errs_ : float list, [n_periods_tested]\n",
    "            List of test errors for each time period tested\n",
    "        \"\"\"\n",
    "        years = np.array(years)\n",
    "        unique_years = np.unique(years)\n",
    "        test_years = []\n",
    "        test_errs = []\n",
    "        for year in unique_years[self.n_year_period_::self.n_year_period_]:\n",
    "            train_inds = years < year\n",
    "            test_inds = (years >= year) & (years < year + self.n_year_period_)\n",
    "            X_train, y_train = X[train_inds], y[train_inds]\n",
    "            X_test, y_test = X[test_inds], y[test_inds]\n",
    "            self.model_.fit(X_train, y_train)\n",
    "            y_pred = self.model_.predict(X_test)\n",
    "            err = self.err_func_(y_pred, y_test)\n",
    "            test_years.append(year)\n",
    "            test_errs.append(err)\n",
    "        self.test_years_ = test_years\n",
    "        self.test_errs_ = test_errs\n",
    "        return test_years, test_errs"
   ]
  },
  {
   "cell_type": "code",
   "execution_count": 63,
   "metadata": {},
   "outputs": [],
   "source": [
    "class SimpleAverageModel():\n",
    "    \n",
    "    def __init__(self):\n",
    "        pass\n",
    "    \n",
    "    def fit(self, X, y):\n",
    "        self.mean_ = y.mean()\n",
    "    \n",
    "    def predict(self, X):\n",
    "        return np.ones(len(X)) * self.mean_"
   ]
  },
  {
   "cell_type": "code",
   "execution_count": 64,
   "metadata": {},
   "outputs": [],
   "source": [
    "class AverageByIdModel():\n",
    "    \"\"\"Simple model that predicts based on average ratings for a given Id\n",
    "    (movieId or userId) from training data\n",
    "    \n",
    "    Attributes\n",
    "    ----------\n",
    "    averages_by_id_ : pandas Series, shape = [n_ids]\n",
    "        Pandas series of rating averages by id\n",
    "    overall_average_ : float\n",
    "        Average rating over all training samples\n",
    "    \"\"\"\n",
    "    \n",
    "    def fit(self, X, y):\n",
    "        \"\"\"Fit training data.\n",
    "        \n",
    "        Parameters\n",
    "        ----------\n",
    "        X : array-like, shape = [n_samples]\n",
    "            Array of n_samples movieIds or userIds\n",
    "        y : array-like, shape = [n_samples]\n",
    "            Target values (movie ratings)\n",
    "        \n",
    "        Returns\n",
    "        -------\n",
    "        self : object\n",
    "        \"\"\"\n",
    "        X_y_df = pd.DataFrame({'id': X, 'rating': y})\n",
    "        self.averages_by_id_ = (\n",
    "            X_y_df\n",
    "            .groupby('id')['rating']\n",
    "            .mean()\n",
    "            .rename('average_rating')\n",
    "        )\n",
    "        self.overall_average_ = np.mean(y)\n",
    "    \n",
    "    def predict(self, X):\n",
    "        \"\"\"Return rating predictions\n",
    "        \n",
    "        Parameters\n",
    "        ----------\n",
    "        X : array-like, shape = [n_samples]\n",
    "            Array of n_samples movieIds or userIds\n",
    "        \n",
    "        Returns\n",
    "        -------\n",
    "        y_pred : array-like, shape = [n_samples]\n",
    "            Array of n_samples rating predictions\n",
    "        \"\"\"\n",
    "        if isinstance(X, pd.DataFrame):\n",
    "            if X.shape[1] > 1:\n",
    "                raise ValueError(\n",
    "                    \"X should be a 1D array-like object\"\n",
    "                )\n",
    "            X = X.iloc[:, 0]\n",
    "        X_df = pd.DataFrame({'id': X})\n",
    "        X_df = X_df.join(self.averages_by_id_, on='id')\n",
    "        X_df['average_rating'].fillna(self.overall_average_, inplace=True)\n",
    "        return X_df['average_rating'].values"
   ]
  },
  {
   "cell_type": "code",
   "execution_count": 65,
   "metadata": {},
   "outputs": [],
   "source": [
    "class DampedUserMovieBaselineModel():\n",
    "    \"\"\"Baseline model that of the form mu + b_u + b_i,\n",
    "    where mu is the overall average, b_u is a damped user\n",
    "    average rating residual, and b_i is a damped item (movie)\n",
    "    average rating residual. See eqn 2.1 of\n",
    "    http://files.grouplens.org/papers/FnT%20CF%20Recsys%20Survey.pdf\n",
    "    \n",
    "    Parameters\n",
    "    ----------\n",
    "    damping_factor : float, default=0\n",
    "        Factor to bring residuals closer to 0. Must be positive.\n",
    "    \n",
    "    Attributes\n",
    "    ----------\n",
    "    mu_ : float\n",
    "        Average rating over all training samples\n",
    "    b_u_ : pandas Series, shape = [n_users]\n",
    "        User residuals\n",
    "    b_i_ : pandas Series, shape = [n_movies]\n",
    "        Movie residuals\n",
    "    damping_factor_ : float, default=0\n",
    "        Factor to bring residuals closer to 0. Must be positive.\n",
    "    \"\"\"\n",
    "    def __init__(self, damping_factor=0):\n",
    "        self.damping_factor_ = damping_factor\n",
    "    \n",
    "    def fit(self, X, y):\n",
    "        \"\"\"Fit training data.\n",
    "        \n",
    "        Parameters\n",
    "        ----------\n",
    "        X : DataFrame, shape = [n_samples, 2]\n",
    "            DataFrame with columns 'userId', and 'movieId'\n",
    "        y : array-like, shape = [n_samples]\n",
    "            Target values (movie ratings)\n",
    "        \n",
    "        Returns\n",
    "        -------\n",
    "        self : object\n",
    "        \"\"\"\n",
    "        X = X.copy()\n",
    "        X['rating'] = y\n",
    "        self.mu_ = np.mean(y)\n",
    "        user_counts = X['userId'].value_counts()\n",
    "        movie_counts = X['movieId'].value_counts()\n",
    "        b_u = (\n",
    "            X[['userId', 'rating']]\n",
    "            .groupby('userId')['rating']\n",
    "            .sum()\n",
    "            .subtract(user_counts * self.mu_)\n",
    "            .divide(user_counts + self.damping_factor_)\n",
    "            .rename('b_u')\n",
    "        )\n",
    "        X = X.join(b_u, on='userId')\n",
    "        X['movie_residual'] = X['rating'] - X['b_u'] - self.mu_\n",
    "        b_i = (\n",
    "            X[['movieId', 'movie_residual']]\n",
    "            .groupby('movieId')['movie_residual']\n",
    "            .sum()\n",
    "            .divide(movie_counts + self.damping_factor_)\n",
    "            .rename('b_i')\n",
    "        )\n",
    "        self.b_u_ = b_u\n",
    "        self.b_i_ = b_i\n",
    "    \n",
    "    def predict(self, X):\n",
    "        \"\"\"Return rating predictions\n",
    "        \n",
    "        Parameters\n",
    "        ----------\n",
    "        X : DataFrame, shape = [n_samples, 2]\n",
    "            DataFrame with columns 'userId', and 'movieId'\n",
    "        \n",
    "        Returns\n",
    "        -------\n",
    "        y_pred : array-like, shape = [n_samples]\n",
    "            Array of n_samples rating predictions\n",
    "        \"\"\"\n",
    "        X = X.copy()\n",
    "        X = X.join(self.b_u_, on='userId').fillna(0)\n",
    "        X = X.join(self.b_i_, on='movieId').fillna(0)\n",
    "        return self.mu_ + X['b_u'] + X['b_i']"
   ]
  },
  {
   "cell_type": "code",
   "execution_count": 66,
   "metadata": {},
   "outputs": [
    {
     "name": "stdout",
     "output_type": "stream",
     "text": [
      "CPU times: user 3.99 s, sys: 3.17 s, total: 7.15 s\n",
      "Wall time: 7.41 s\n"
     ]
    }
   ],
   "source": [
    "%%time\n",
    "validator = PerformanceOverTimeValidator(SimpleAverageModel(), n_year_period=2)\n",
    "years_1, errs_1 = validator.validate(ratings_df['userId'], ratings_df['rating'], years=ratings_df['year'])"
   ]
  },
  {
   "cell_type": "code",
   "execution_count": 72,
   "metadata": {},
   "outputs": [
    {
     "name": "stdout",
     "output_type": "stream",
     "text": [
      "CPU times: user 18.9 s, sys: 10.6 s, total: 29.5 s\n",
      "Wall time: 30.1 s\n"
     ]
    }
   ],
   "source": [
    "%%time\n",
    "validator = PerformanceOverTimeValidator(AverageByIdModel(), n_year_period=2)\n",
    "years_2, errs_2 = validator.validate(ratings_df['userId'], ratings_df['rating'], ratings_df['year'])\n",
    "years_3, errs_3 = validator.validate(ratings_df['movieId'], ratings_df['rating'], ratings_df['year'])"
   ]
  },
  {
   "cell_type": "code",
   "execution_count": 68,
   "metadata": {},
   "outputs": [
    {
     "name": "stdout",
     "output_type": "stream",
     "text": [
      "CPU times: user 34.5 s, sys: 21.9 s, total: 56.3 s\n",
      "Wall time: 1min 1s\n"
     ]
    }
   ],
   "source": [
    "%%time\n",
    "model = DampedUserMovieBaselineModel(damping_factor=0)\n",
    "validator = PerformanceOverTimeValidator(model, n_year_period=2)\n",
    "years_4, errs_4 = validator.validate(ratings_df[['userId', 'movieId']], ratings_df['rating'], ratings_df['year'])"
   ]
  },
  {
   "cell_type": "code",
   "execution_count": 69,
   "metadata": {},
   "outputs": [
    {
     "name": "stdout",
     "output_type": "stream",
     "text": [
      "CPU times: user 34 s, sys: 22 s, total: 56.1 s\n",
      "Wall time: 1min\n"
     ]
    }
   ],
   "source": [
    "%%time\n",
    "model = DampedUserMovieBaselineModel(damping_factor=5)\n",
    "validator = PerformanceOverTimeValidator(model, n_year_period=2)\n",
    "years_5, errs_5 = validator.validate(ratings_df[['userId', 'movieId']], ratings_df['rating'], ratings_df['year'])"
   ]
  },
  {
   "cell_type": "code",
   "execution_count": 70,
   "metadata": {},
   "outputs": [
    {
     "name": "stdout",
     "output_type": "stream",
     "text": [
      "CPU times: user 33 s, sys: 20.6 s, total: 53.7 s\n",
      "Wall time: 56.3 s\n"
     ]
    }
   ],
   "source": [
    "%%time\n",
    "model = DampedUserMovieBaselineModel(damping_factor=25)\n",
    "validator = PerformanceOverTimeValidator(model, n_year_period=2)\n",
    "years_6, errs_6 = validator.validate(ratings_df[['userId', 'movieId']], ratings_df['rating'], ratings_df['year'])"
   ]
  },
  {
   "cell_type": "code",
   "execution_count": 73,
   "metadata": {
    "scrolled": false
   },
   "outputs": [
    {
     "data": {
      "image/png": "[encoded data removed]",
      "text/plain": [
       "<matplotlib.figure.Figure at 0x11714e2e8>"
      ]
     },
     "metadata": {},
     "output_type": "display_data"
    }
   ],
   "source": [
    "plt.plot(years_1, errs_1, 'o-', label='Avg')\n",
    "plt.plot(years_2, errs_2, 'o-', label='User Avg')\n",
    "plt.plot(years_3, errs_3, 'o-', label='Movie Avg')\n",
    "plt.plot(years_4, errs_4, 'o-', label=r'Residuals: $\\beta=0$')\n",
    "plt.plot(years_5, errs_5, 'o-', label=r'Residuals: $\\beta=5$')\n",
    "plt.plot(years_6, errs_6, 'o-', label=r'Residuals: $\\beta=25$')\n",
    "plt.gca().set_xticks(np.arange(1996, 2013, 2))\n",
    "plt.xlabel('Year')\n",
    "plt.ylabel('MAE')\n",
    "plt.title('MAE over Time')\n",
    "plt.legend(title='Baseline Model')\n",
    "plt.show()"
   ]
  }
 ],
 "metadata": {
  "kernelspec": {
   "display_name": "Python 3",
   "language": "python",
   "name": "python3"
  },
  "language_info": {
   "codemirror_mode": {
    "name": "ipython",
    "version": 3
   },
   "file_extension": ".py",
   "mimetype": "text/x-python",
   "name": "python",
   "nbconvert_exporter": "python",
   "pygments_lexer": "ipython3",
   "version": "3.6.4"
  }
 },
 "nbformat": 4,
 "nbformat_minor": 2
}
