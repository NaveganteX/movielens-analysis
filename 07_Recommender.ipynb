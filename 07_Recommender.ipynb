{
 "cells": [
  {
   "cell_type": "code",
   "execution_count": 1,
   "metadata": {},
   "outputs": [],
   "source": [
    "# Import necessary modules\n",
    "%matplotlib inline\n",
    "%load_ext autoreload\n",
    "%autoreload 2"
   ]
  },
  {
   "cell_type": "code",
   "execution_count": 2,
   "metadata": {},
   "outputs": [],
   "source": [
    "from datetime import datetime\n",
    "from functools import reduce\n",
    "from IPython.display import HTML\n",
    "from os.path import exists\n",
    "from sklearn.metrics import mean_absolute_error\n",
    "from sklearn.model_selection import StratifiedKFold\n",
    "import gc\n",
    "import json\n",
    "import matplotlib.pyplot as plt\n",
    "import numpy as np\n",
    "import pandas as pd\n",
    "import requests\n",
    "import seaborn as sns\n",
    "import sys\n",
    "\n",
    "sys.path.insert(0, '..')\n",
    "from cf_utils import ALSRecommender\n",
    "from cf_utils import DampedUserMovieBaselineModel\n",
    "from cf_utils import KNNRecommender\n",
    "from cf_utils import ndcg_from_df\n",
    "from cf_utils import SGDRecommender\n",
    "\n",
    "# Use custom matplotlib stylesheet\n",
    "plt.style.use('./big-darkgrid.mplstyle')"
   ]
  },
  {
   "cell_type": "code",
   "execution_count": 3,
   "metadata": {},
   "outputs": [
    {
     "data": {
      "text/html": [
       "<div>\n",
       "<style scoped>\n",
       "    .dataframe tbody tr th:only-of-type {\n",
       "        vertical-align: middle;\n",
       "    }\n",
       "\n",
       "    .dataframe tbody tr th {\n",
       "        vertical-align: top;\n",
       "    }\n",
       "\n",
       "    .dataframe thead th {\n",
       "        text-align: right;\n",
       "    }\n",
       "</style>\n",
       "<table border=\"1\" class=\"dataframe\">\n",
       "  <thead>\n",
       "    <tr style=\"text-align: right;\">\n",
       "      <th></th>\n",
       "      <th>userId</th>\n",
       "      <th>movieId</th>\n",
       "      <th>rating</th>\n",
       "    </tr>\n",
       "  </thead>\n",
       "  <tbody>\n",
       "    <tr>\n",
       "      <th>0</th>\n",
       "      <td>196</td>\n",
       "      <td>242</td>\n",
       "      <td>3</td>\n",
       "    </tr>\n",
       "    <tr>\n",
       "      <th>1</th>\n",
       "      <td>186</td>\n",
       "      <td>302</td>\n",
       "      <td>3</td>\n",
       "    </tr>\n",
       "    <tr>\n",
       "      <th>2</th>\n",
       "      <td>22</td>\n",
       "      <td>377</td>\n",
       "      <td>1</td>\n",
       "    </tr>\n",
       "    <tr>\n",
       "      <th>3</th>\n",
       "      <td>244</td>\n",
       "      <td>51</td>\n",
       "      <td>2</td>\n",
       "    </tr>\n",
       "    <tr>\n",
       "      <th>4</th>\n",
       "      <td>166</td>\n",
       "      <td>346</td>\n",
       "      <td>1</td>\n",
       "    </tr>\n",
       "  </tbody>\n",
       "</table>\n",
       "</div>"
      ],
      "text/plain": [
       "   userId  movieId  rating\n",
       "0     196      242       3\n",
       "1     186      302       3\n",
       "2      22      377       1\n",
       "3     244       51       2\n",
       "4     166      346       1"
      ]
     },
     "execution_count": 3,
     "metadata": {},
     "output_type": "execute_result"
    }
   ],
   "source": [
    "ratings_df = pd.read_csv('raw/ml-100k/u.data', sep='\\t', header=None, usecols=[0,1,2],\n",
    "                         names=['userId', 'movieId', 'rating'])\n",
    "ratings_df.head()"
   ]
  },
  {
   "cell_type": "code",
   "execution_count": 4,
   "metadata": {},
   "outputs": [
    {
     "data": {
      "text/html": [
       "<div>\n",
       "<style scoped>\n",
       "    .dataframe tbody tr th:only-of-type {\n",
       "        vertical-align: middle;\n",
       "    }\n",
       "\n",
       "    .dataframe tbody tr th {\n",
       "        vertical-align: top;\n",
       "    }\n",
       "\n",
       "    .dataframe thead th {\n",
       "        text-align: right;\n",
       "    }\n",
       "</style>\n",
       "<table border=\"1\" class=\"dataframe\">\n",
       "  <thead>\n",
       "    <tr style=\"text-align: right;\">\n",
       "      <th></th>\n",
       "      <th>imdbId</th>\n",
       "      <th>tmdbId</th>\n",
       "    </tr>\n",
       "    <tr>\n",
       "      <th>movieId</th>\n",
       "      <th></th>\n",
       "      <th></th>\n",
       "    </tr>\n",
       "  </thead>\n",
       "  <tbody>\n",
       "    <tr>\n",
       "      <th>1</th>\n",
       "      <td>0114709</td>\n",
       "      <td>862</td>\n",
       "    </tr>\n",
       "    <tr>\n",
       "      <th>2</th>\n",
       "      <td>0113497</td>\n",
       "      <td>8844</td>\n",
       "    </tr>\n",
       "    <tr>\n",
       "      <th>3</th>\n",
       "      <td>0113228</td>\n",
       "      <td>15602</td>\n",
       "    </tr>\n",
       "    <tr>\n",
       "      <th>4</th>\n",
       "      <td>0114885</td>\n",
       "      <td>31357</td>\n",
       "    </tr>\n",
       "    <tr>\n",
       "      <th>5</th>\n",
       "      <td>0113041</td>\n",
       "      <td>11862</td>\n",
       "    </tr>\n",
       "  </tbody>\n",
       "</table>\n",
       "</div>"
      ],
      "text/plain": [
       "          imdbId tmdbId\n",
       "movieId                \n",
       "1        0114709    862\n",
       "2        0113497   8844\n",
       "3        0113228  15602\n",
       "4        0114885  31357\n",
       "5        0113041  11862"
      ]
     },
     "execution_count": 4,
     "metadata": {},
     "output_type": "execute_result"
    }
   ],
   "source": [
    "links_df = pd.read_csv('raw/links.csv', dtype=str).set_index('movieId', drop=True)\n",
    "links_df.head()"
   ]
  },
  {
   "cell_type": "code",
   "execution_count": 5,
   "metadata": {},
   "outputs": [],
   "source": [
    "n_splits = 3\n",
    "skf = StratifiedKFold(n_splits=n_splits, random_state=0)\n",
    "splits = [\n",
    "    (train_inds, test_inds)\n",
    "    for train_inds, test_inds in skf.split(ratings_df, ratings_df['userId'])\n",
    "]"
   ]
  },
  {
   "cell_type": "code",
   "execution_count": 6,
   "metadata": {},
   "outputs": [],
   "source": [
    "baseline_algo = DampedUserMovieBaselineModel(damping_factor=10)\n",
    "reg = 0.0\n",
    "models_dict = {\n",
    "    'user': KNNRecommender(mode='user', k=20, baseline_algo=baseline_algo),\n",
    "    'item': KNNRecommender(mode='item', k=10, baseline_algo=baseline_algo),\n",
    "    'als': ALSRecommender(k=5, lmbda=0.1, max_epochs=15, baseline_algo=baseline_algo, verbose=False),\n",
    "    'sgd': SGDRecommender(k=50, learning_rate=0.01, max_epochs=30, damping_factor=10,\n",
    "                          user_reg=reg, item_reg=reg, user_bias_reg=reg, item_bias_reg=reg,\n",
    "                          verbose=False)\n",
    "}"
   ]
  },
  {
   "cell_type": "code",
   "execution_count": 7,
   "metadata": {},
   "outputs": [],
   "source": [
    "# You'll need to go to themoviedb.org to set up an api_key if you want to run this\n",
    "api_key = 'XXXXXXXXXXXXXXXXXXXXXXXXXXXXXXXX'\n",
    "headers = {'Accept': 'application/json'}\n",
    "payload = {'api_key': api_key} \n",
    "response = requests.get(\n",
    "    \"http://api.themoviedb.org/3/configuration\",\n",
    "    params=payload,\n",
    "    headers=headers,\n",
    ")\n",
    "response = json.loads(response.text)\n",
    "base_url = response['images']['base_url'] + 'w185'"
   ]
  },
  {
   "cell_type": "code",
   "execution_count": 8,
   "metadata": {},
   "outputs": [],
   "source": [
    "def get_poster_url(movieId, base_url, links_df, api_key):\n",
    "    movieId = str(int(movieId))\n",
    "    # Get IMDB movie ID\n",
    "    tmdbId = links_df.loc[movieId, 'tmdbId']\n",
    "    \n",
    "    # Query themoviedb.org API for movie poster path.\n",
    "    movie_url = 'http://api.themoviedb.org/3/movie/{:}/images'.format(tmdbId)\n",
    "    headers = {'Accept': 'application/json'}\n",
    "    payload = {'api_key': api_key} \n",
    "    response = requests.get(movie_url, params=payload, headers=headers)\n",
    "    file_path = json.loads(response.text)['posters'][0]['file_path']\n",
    "        \n",
    "    return base_url + file_path\n",
    "\n",
    "def display_posters(movieIds, base_url, links_df, api_key):\n",
    "    poster_urls = [get_poster_url(movieId, base_url, links_df, api_key) for movieId in movieIds]\n",
    "    TABLE = \"<table style='width: 100%; align: center;'><tr>{}</tr></table>\"\n",
    "    CELL = \"<td align='center'><img style='float: left; width: 120px' src={}></td>\"\n",
    "    table = TABLE.format(''.join([CELL.format(url) for url in poster_urls]))\n",
    "    display(HTML(table))"
   ]
  },
  {
   "cell_type": "code",
   "execution_count": 9,
   "metadata": {},
   "outputs": [],
   "source": [
    "def recommend(model, train_df, user, pretrained=False, k=3):\n",
    "    train_df = train_df.iloc[:, :3].copy()\n",
    "    train_df.columns = ['user', 'item', 'rating']\n",
    "    if not pretrained:\n",
    "        model.fit(train_df)\n",
    "    seen_movies = train_df[train_df['user'] == user]['item'].unique()\n",
    "    unseen_movies = list(set(train_df['item'].unique()) - set(seen_movies))\n",
    "    user_movie_df = pd.DataFrame({'user': [user]*len(unseen_movies), 'item': unseen_movies})\n",
    "    user_movie_df = user_movie_df[['user', 'item']]\n",
    "    user_movie_df['pred'] = model.predict(user_movie_df)\n",
    "    user_movie_df = user_movie_df.sort_values('pred', ascending=False)\n",
    "    movies, preds = user_movie_df[['item', 'pred']].values[:3, :].T\n",
    "    return movies, preds"
   ]
  },
  {
   "cell_type": "markdown",
   "metadata": {},
   "source": [
    "## Movies this user likes"
   ]
  },
  {
   "cell_type": "code",
   "execution_count": 10,
   "metadata": {},
   "outputs": [
    {
     "data": {
      "text/html": [
       "<table style='width: 100%; align: center;'><tr><td align='center'><img style='float: left; width: 120px' src=http://image.tmdb.org/t/p/w185/flK0OtdFRvfbs5BixEqU327H8ZB.jpg></td><td align='center'><img style='float: left; width: 120px' src=http://image.tmdb.org/t/p/w185/A2kEGPZFAKTWmcLLXmwYxykB2Sb.jpg></td><td align='center'><img style='float: left; width: 120px' src=http://image.tmdb.org/t/p/w185/7W6cMmZulZpjmz18soTIorSQrOo.jpg></td><td align='center'><img style='float: left; width: 120px' src=http://image.tmdb.org/t/p/w185/o4cYWubhrBFF56IyEyce89lMb5y.jpg></td><td align='center'><img style='float: left; width: 120px' src=http://image.tmdb.org/t/p/w185/sUiqWj0k5oPcThd1WaXvt9Vymzr.jpg></td></tr></table>"
      ],
      "text/plain": [
       "<IPython.core.display.HTML object>"
      ]
     },
     "metadata": {},
     "output_type": "display_data"
    }
   ],
   "source": [
    "user = 100\n",
    "train_inds, test_inds = splits[0]\n",
    "train_df, test_df = ratings_df.iloc[train_inds], ratings_df.iloc[test_inds]\n",
    "favorite_movies = (\n",
    "    train_df[train_df['userId']==user]\n",
    "    .sort_values('rating', ascending=False)\n",
    "    .iloc[:5, 1]\n",
    "    .values\n",
    ")\n",
    "display_posters(favorite_movies, base_url, links_df, api_key)"
   ]
  },
  {
   "cell_type": "markdown",
   "metadata": {},
   "source": [
    "## Recommended movies"
   ]
  },
  {
   "cell_type": "code",
   "execution_count": 12,
   "metadata": {},
   "outputs": [
    {
     "data": {
      "text/html": [
       "<table style='width: 100%; align: center;'><tr><td align='center'><img style='float: left; width: 120px' src=http://image.tmdb.org/t/p/w185/A3ijhraMN0tvpDnPoyVP7NulkSr.jpg></td><td align='center'><img style='float: left; width: 120px' src=http://image.tmdb.org/t/p/w185/xve4cgfYItnOhtzLYoTwTVy5FGr.jpg></td><td align='center'><img style='float: left; width: 120px' src=http://image.tmdb.org/t/p/w185/80czeJGSoik22fhtUM9WzyjUU4r.jpg></td></tr></table>"
      ],
      "text/plain": [
       "<IPython.core.display.HTML object>"
      ]
     },
     "metadata": {},
     "output_type": "display_data"
    }
   ],
   "source": [
    "model = models_dict['sgd']\n",
    "movies, preds = recommend(model, train_df, user)\n",
    "display_posters(movies, base_url, links_df, api_key)"
   ]
  }
 ],
 "metadata": {
  "kernelspec": {
   "display_name": "Python 3",
   "language": "python",
   "name": "python3"
  },
  "language_info": {
   "codemirror_mode": {
    "name": "ipython",
    "version": 3
   },
   "file_extension": ".py",
   "mimetype": "text/x-python",
   "name": "python",
   "nbconvert_exporter": "python",
   "pygments_lexer": "ipython3",
   "version": "3.6.4"
  }
 },
 "nbformat": 4,
 "nbformat_minor": 2
}
